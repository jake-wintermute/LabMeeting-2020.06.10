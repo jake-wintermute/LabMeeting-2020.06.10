{
 "cells": [
  {
   "cell_type": "markdown",
   "metadata": {},
   "source": [
    "# Chemical Genetic Traces by Drug Class\n",
    "Demonstration notebook from Jake's lab meeting. June 10, 2020"
   ]
  },
  {
   "cell_type": "markdown",
   "metadata": {},
   "source": [
    "### Import the python libraries"
   ]
  },
  {
   "cell_type": "code",
   "execution_count": 1,
   "metadata": {},
   "outputs": [],
   "source": [
    "import numpy as np\n",
    "import pandas as pd\n",
    "import pickle\n",
    "import matplotlib.pyplot as plt\n",
    "from ipywidgets import widgets, interactive, interact\n",
    "from IPython.display import display"
   ]
  },
  {
   "cell_type": "markdown",
   "metadata": {},
   "source": [
    "### Load the chemical-genetic trace data"
   ]
  },
  {
   "cell_type": "code",
   "execution_count": 2,
   "metadata": {},
   "outputs": [],
   "source": [
    "# Screen_Dict contains the growth measurements\n",
    "with open('Library/Screen_Dict.pickle', 'rb') as Pickle_File_Handle:\n",
    "    Screen_Dict  = pickle.load(Pickle_File_Handle)\n",
    "    \n",
    "# Full_Library_DF contains information about the Prestwick library\n",
    "Full_Library_DF = pd.read_csv('Library/Prestwick Library.csv', index_col=[0, 1, 2])\n",
    "\n",
    "# Drug_Classes_DF assigns drugs to interesting groups\n",
    "Drug_Classes_DF = pd.read_csv('Library/Clinical Effects.csv', index_col=[0]) "
   ]
  },
  {
   "cell_type": "markdown",
   "metadata": {},
   "source": [
    "### Collect growth measurements for the entire library"
   ]
  },
  {
   "cell_type": "code",
   "execution_count": 3,
   "metadata": {},
   "outputs": [],
   "source": [
    "# Collect all the OD traces\n",
    "All_Trace_Treatments = ['Arabinose 1E3', 'Arabinose 1E4', 'Arabinose 1E5',\n",
    "                        'Arabinose 1E6', 'Arabinose 1E7']\n",
    "\n",
    "All_Traces = {}\n",
    "All_Traces['OD600 Mean'] = np.vstack([Screen_Dict['All Plates'][Trace_Treatment]['OD600 Mean'] \\\n",
    "                          for Trace_Treatment in All_Trace_Treatments])\n",
    "\n",
    "Drug_Traces = {}\n",
    "Drug_Traces['OD600 Mean'] = np.vstack([Screen_Dict['Drug'][Trace_Treatment]['OD600 Mean'] \\\n",
    "                          for Trace_Treatment in All_Trace_Treatments])"
   ]
  },
  {
   "cell_type": "markdown",
   "metadata": {},
   "source": [
    "### Collect growth measurements for each class"
   ]
  },
  {
   "cell_type": "code",
   "execution_count": 4,
   "metadata": {},
   "outputs": [],
   "source": [
    "# Connect each drug name to its index in the data\n",
    "Drug_Position_Index = pd.Series(Full_Library_DF.index.get_level_values(0),\n",
    "                           index=Full_Library_DF['Chemical name'].values,\n",
    "                           name='Position')\n",
    "\n",
    "# Extract the growth data for each drug in each set\n",
    "Class_Traces = {}\n",
    "All_Class_Names = Drug_Classes_DF.index.values\n",
    "for Class_Name in All_Class_Names:\n",
    "    \n",
    "    Class_Traces[Class_Name] = {}\n",
    "    Class_Traces[Class_Name]['Drug Names'] = Drug_Classes_DF.loc[Class_Name].dropna()\n",
    "    Class_Traces[Class_Name]['Drug Positions'] = Drug_Position_Index.loc[Class_Traces[Class_Name]['Drug Names']].values\n",
    "    Class_Traces[Class_Name]['OD600 Mean'] = All_Traces['OD600 Mean'][:, Class_Traces[Class_Name]['Drug Positions']]\n"
   ]
  },
  {
   "cell_type": "markdown",
   "metadata": {},
   "source": [
    "### Plot the interactive chemical-genetic traces"
   ]
  },
  {
   "cell_type": "code",
   "execution_count": 5,
   "metadata": {},
   "outputs": [
    {
     "data": {
      "application/vnd.jupyter.widget-view+json": {
       "model_id": "655e2d024f004b27914d479c954d8f40",
       "version_major": 2,
       "version_minor": 0
      },
      "text/plain": [
       "interactive(children=(Dropdown(description='Drug Class:', index=39, options=('Antineoplastic', 'Antipsoriatic'…"
      ]
     },
     "metadata": {},
     "output_type": "display_data"
    }
   ],
   "source": [
    "# Assign the plot style\n",
    "plt.style.use('Library/Trace_Style.mplstyle')\n",
    "\n",
    "#%% Color metadata\n",
    "KColors = {'Dark Gray':'#222222', 'Dark Pink':'#B3446C'}\n",
    "\n",
    "# Make a dropdown to select the interesting drug class\n",
    "w = widgets.Dropdown(\n",
    "    options=All_Class_Names,\n",
    "    value='Nasal Decongestant',\n",
    "    description='Drug Class:')\n",
    "\n",
    "def makeplot(Selected_Class):\n",
    "    ''' Builds the plot interactively for the selected drug class'''\n",
    "    \n",
    "    Fig_handle, Ax_handle = plt.subplots(nrows=1, ncols=4, sharex=True, sharey=True)\n",
    "    \n",
    "    Ax_handle[0].plot(Drug_Traces['OD600 Mean'],\n",
    "                      color=KColors['Dark Gray'], alpha=0.05)\n",
    "\n",
    "    Ax_handle[1].plot(Class_Traces[Selected_Class]['OD600 Mean'],\n",
    "                      color=KColors['Dark Pink'], alpha=0.5)\n",
    "    \n",
    "    Vplot_handle_1 = Ax_handle[2].violinplot(Drug_Traces['OD600 Mean'].transpose(), positions=range(5),\n",
    "                            vert=True, showextrema=False)\n",
    "     \n",
    "    Vplot_handle_2 = Ax_handle[3].violinplot(Class_Traces[Selected_Class]['OD600 Mean'].transpose(), positions=range(5),\n",
    "                            vert=True, showextrema=False)\n",
    "    \n",
    "    # Set color and style of the plots\n",
    "    for vp in Vplot_handle_1['bodies']:\n",
    "            vp.set_facecolor(KColors['Dark Gray'])\n",
    "            vp.set_alpha(0.8)\n",
    "            \n",
    "    for vp in Vplot_handle_2['bodies']:\n",
    "        vp.set_facecolor(KColors['Dark Pink'])\n",
    "        vp.set_alpha(0.8)\n",
    "    \n",
    "    for Ax in Ax_handle:\n",
    "        Ax.set_yticks((0.1, 0.2, 0.3, 0.4))\n",
    "        Ax.set_ylabel('Growth (OD600)')\n",
    "        Ax.set_xticks([0, 1, 2, 3, 4])\n",
    "        Ax.set_xticklabels(('$10^3$', '$10^4$', '$10^5$', '$10^6$', '$10^7$'))\n",
    "        Ax.set_xlabel('Induction Level (mM)')\n",
    "        \n",
    "    Ax_handle[0].set_title('All Drugs')\n",
    "    Ax_handle[1].set_title(Selected_Class)\n",
    "    Ax_handle[2].set_title('All Drugs')\n",
    "    Ax_handle[3].set_title(Selected_Class)\n",
    "\n",
    "interactive(makeplot, Selected_Class=w)"
   ]
  }
 ],
 "metadata": {
  "kernelspec": {
   "display_name": "Python 3",
   "language": "python",
   "name": "python3"
  },
  "language_info": {
   "codemirror_mode": {
    "name": "ipython",
    "version": 3
   },
   "file_extension": ".py",
   "mimetype": "text/x-python",
   "name": "python",
   "nbconvert_exporter": "python",
   "pygments_lexer": "ipython3",
   "version": "3.7.7"
  }
 },
 "nbformat": 4,
 "nbformat_minor": 4
}
